{
 "cells": [
  {
   "cell_type": "code",
   "execution_count": 6,
   "id": "008966b3-427b-4223-9cce-2717d7e5023c",
   "metadata": {},
   "outputs": [],
   "source": [
    "import os\n",
    "from os.path import join as opj\n",
    "import torch\n",
    "import segmentation_models_pytorch as smp\n",
    "from loguru import logger\n",
    "import pandas as pd\n",
    "\n",
    "seed = 42\n",
    "name = 'Unet-resnext50_32x4d-512x512'\n",
    "model_name = 'Unet'\n",
    "backbone_name = 'resnext50_32x4d'\n",
    "class_output = 1\n",
    "data_folder = 'blood-vessel-segmentation'\n",
    "train_folder = 'train'\n",
    "test_folder = 'test'\n",
    "weight_folder = 'weight'\n",
    "# img_size  = [512, 512]\n",
    "\n",
    "data_path = opj(os.getcwd(), data_folder)\n",
    "train_path = opj(data_path, train_folder)\n",
    "test_path = opj(data_path, test_folder)\n",
    "weight_path = opj(os.getcwd(), weight_folder)\n",
    "\n",
    "train_method = 2\n",
    "debug = False\n",
    "train_bs = 8\n",
    "valid_bs = 8\n",
    "img_size = [512, 512]\n",
    "epochs = 30\n",
    "n_accumulate = max(1, 64//train_bs)\n",
    "lr = 1e-2\n",
    "scheduler = 'CosineAnnealingLR'\n",
    "min_lr = 5e-6\n",
    "T_max = int((2279+1397+2217+1035)/(train_bs*n_accumulate)*epochs)+50\n",
    "T_0 = 25\n",
    "warmup_epochs = 5\n",
    "wd = 1e-6\n",
    "n_fold = 5\n",
    "num_classes = 1\n",
    "\n",
    "gt_df = opj(os.getcwd(), 'gt.csv')\n",
    "train_groups = [\"kidney_1_dense\", \"kidney_1_voi\", \"kidney_2\", \"kidney_3_sparse\"]\n",
    "valid_groups = [\"kidney_3_dense\"]\n",
    "loss_func     = \"MultiLoss_2\"\n",
    "thresh = 0.6"
   ]
  },
  {
   "cell_type": "code",
   "execution_count": 2,
   "id": "9491d783-e12b-4898-9c6c-37bfe08b7ced",
   "metadata": {},
   "outputs": [],
   "source": [
    "device = torch.device('cuda' if torch.cuda.is_available() else 'cpu')"
   ]
  },
  {
   "cell_type": "code",
   "execution_count": 3,
   "id": "e5f3de6e-04ae-4ff7-9c48-f87a587f6e05",
   "metadata": {},
   "outputs": [],
   "source": [
    "def build_model(backbone, num_classes, device):\n",
    "    model = smp.Unet(\n",
    "        # choose encoder, e.g. mobilenet_v2 or efficientnet-b7\n",
    "        encoder_name=backbone,\n",
    "        # use `imagenet` pre-trained weights for encoder initialization\n",
    "        encoder_weights='imagenet',\n",
    "        # model input channels (1 for gray-scale images, 3 for RGB, etc.)\n",
    "        in_channels=3,\n",
    "        # model output channels (number of classes in your dataset)\n",
    "        classes=num_classes,\n",
    "        activation=None,\n",
    "    )\n",
    "\n",
    "    model.to(device)\n",
    "    return model"
   ]
  },
  {
   "cell_type": "code",
   "execution_count": 4,
   "id": "09c6220b-b98d-454e-adae-3047a46c6232",
   "metadata": {},
   "outputs": [],
   "source": [
    "model = build_model(backbone_name, 1, device)"
   ]
  },
  {
   "cell_type": "code",
   "execution_count": null,
   "id": "5a5c8a32-cd97-4440-862d-629cb8066966",
   "metadata": {},
   "outputs": [],
   "source": [
    "print(model.encoder.parameters)"
   ]
  },
  {
   "cell_type": "code",
   "execution_count": 16,
   "id": "e2415eda-8af2-4511-b6ce-64789c5e108d",
   "metadata": {},
   "outputs": [
    {
     "name": "stdout",
     "output_type": "stream",
     "text": [
      "['T_destination', '__annotations__', '__call__', '__class__', '__delattr__', '__dict__', '__dir__', '__doc__', '__eq__', '__format__', '__ge__', '__getattr__', '__getattribute__', '__gt__', '__hash__', '__init__', '__init_subclass__', '__le__', '__lt__', '__module__', '__ne__', '__new__', '__reduce__', '__reduce_ex__', '__repr__', '__setattr__', '__setstate__', '__sizeof__', '__str__', '__subclasshook__', '__weakref__', '_apply', '_backward_hooks', '_backward_pre_hooks', '_buffers', '_call_impl', '_forward_hooks', '_forward_hooks_with_kwargs', '_forward_pre_hooks', '_forward_pre_hooks_with_kwargs', '_get_backward_hooks', '_get_backward_pre_hooks', '_get_name', '_is_full_backward_hook', '_load_from_state_dict', '_load_state_dict_post_hooks', '_load_state_dict_pre_hooks', '_maybe_warn_non_full_backward_hook', '_modules', '_named_members', '_non_persistent_buffers_set', '_parameters', '_register_load_state_dict_pre_hook', '_register_state_dict_hook', '_replicate_for_data_parallel', '_save_to_state_dict', '_slow_forward', '_state_dict_hooks', '_state_dict_pre_hooks', '_version', 'add_module', 'apply', 'bfloat16', 'blocks', 'buffers', 'call_super_init', 'center', 'children', 'cpu', 'cuda', 'double', 'dump_patches', 'eval', 'extra_repr', 'float', 'forward', 'get_buffer', 'get_extra_state', 'get_parameter', 'get_submodule', 'half', 'ipu', 'load_state_dict', 'modules', 'named_buffers', 'named_children', 'named_modules', 'named_parameters', 'parameters', 'register_backward_hook', 'register_buffer', 'register_forward_hook', 'register_forward_pre_hook', 'register_full_backward_hook', 'register_full_backward_pre_hook', 'register_load_state_dict_post_hook', 'register_module', 'register_parameter', 'register_state_dict_pre_hook', 'requires_grad_', 'set_extra_state', 'share_memory', 'state_dict', 'to', 'to_empty', 'train', 'training', 'type', 'xpu', 'zero_grad']\n"
     ]
    }
   ],
   "source": [
    "print(dir(model.decoder))"
   ]
  },
  {
   "cell_type": "code",
   "execution_count": 15,
   "id": "fdd5068c-d8b9-4803-a162-a5f03c0bd624",
   "metadata": {},
   "outputs": [
    {
     "name": "stdout",
     "output_type": "stream",
     "text": [
      "<bound method Module.get_parameter of UnetDecoder(\n",
      "  (center): Identity()\n",
      "  (blocks): ModuleList(\n",
      "    (0): DecoderBlock(\n",
      "      (conv1): Conv2dReLU(\n",
      "        (0): Conv2d(3072, 256, kernel_size=(3, 3), stride=(1, 1), padding=(1, 1), bias=False)\n",
      "        (1): BatchNorm2d(256, eps=1e-05, momentum=0.1, affine=True, track_running_stats=True)\n",
      "        (2): ReLU(inplace=True)\n",
      "      )\n",
      "      (attention1): Attention(\n",
      "        (attention): Identity()\n",
      "      )\n",
      "      (conv2): Conv2dReLU(\n",
      "        (0): Conv2d(256, 256, kernel_size=(3, 3), stride=(1, 1), padding=(1, 1), bias=False)\n",
      "        (1): BatchNorm2d(256, eps=1e-05, momentum=0.1, affine=True, track_running_stats=True)\n",
      "        (2): ReLU(inplace=True)\n",
      "      )\n",
      "      (attention2): Attention(\n",
      "        (attention): Identity()\n",
      "      )\n",
      "    )\n",
      "    (1): DecoderBlock(\n",
      "      (conv1): Conv2dReLU(\n",
      "        (0): Conv2d(768, 128, kernel_size=(3, 3), stride=(1, 1), padding=(1, 1), bias=False)\n",
      "        (1): BatchNorm2d(128, eps=1e-05, momentum=0.1, affine=True, track_running_stats=True)\n",
      "        (2): ReLU(inplace=True)\n",
      "      )\n",
      "      (attention1): Attention(\n",
      "        (attention): Identity()\n",
      "      )\n",
      "      (conv2): Conv2dReLU(\n",
      "        (0): Conv2d(128, 128, kernel_size=(3, 3), stride=(1, 1), padding=(1, 1), bias=False)\n",
      "        (1): BatchNorm2d(128, eps=1e-05, momentum=0.1, affine=True, track_running_stats=True)\n",
      "        (2): ReLU(inplace=True)\n",
      "      )\n",
      "      (attention2): Attention(\n",
      "        (attention): Identity()\n",
      "      )\n",
      "    )\n",
      "    (2): DecoderBlock(\n",
      "      (conv1): Conv2dReLU(\n",
      "        (0): Conv2d(384, 64, kernel_size=(3, 3), stride=(1, 1), padding=(1, 1), bias=False)\n",
      "        (1): BatchNorm2d(64, eps=1e-05, momentum=0.1, affine=True, track_running_stats=True)\n",
      "        (2): ReLU(inplace=True)\n",
      "      )\n",
      "      (attention1): Attention(\n",
      "        (attention): Identity()\n",
      "      )\n",
      "      (conv2): Conv2dReLU(\n",
      "        (0): Conv2d(64, 64, kernel_size=(3, 3), stride=(1, 1), padding=(1, 1), bias=False)\n",
      "        (1): BatchNorm2d(64, eps=1e-05, momentum=0.1, affine=True, track_running_stats=True)\n",
      "        (2): ReLU(inplace=True)\n",
      "      )\n",
      "      (attention2): Attention(\n",
      "        (attention): Identity()\n",
      "      )\n",
      "    )\n",
      "    (3): DecoderBlock(\n",
      "      (conv1): Conv2dReLU(\n",
      "        (0): Conv2d(128, 32, kernel_size=(3, 3), stride=(1, 1), padding=(1, 1), bias=False)\n",
      "        (1): BatchNorm2d(32, eps=1e-05, momentum=0.1, affine=True, track_running_stats=True)\n",
      "        (2): ReLU(inplace=True)\n",
      "      )\n",
      "      (attention1): Attention(\n",
      "        (attention): Identity()\n",
      "      )\n",
      "      (conv2): Conv2dReLU(\n",
      "        (0): Conv2d(32, 32, kernel_size=(3, 3), stride=(1, 1), padding=(1, 1), bias=False)\n",
      "        (1): BatchNorm2d(32, eps=1e-05, momentum=0.1, affine=True, track_running_stats=True)\n",
      "        (2): ReLU(inplace=True)\n",
      "      )\n",
      "      (attention2): Attention(\n",
      "        (attention): Identity()\n",
      "      )\n",
      "    )\n",
      "    (4): DecoderBlock(\n",
      "      (conv1): Conv2dReLU(\n",
      "        (0): Conv2d(32, 16, kernel_size=(3, 3), stride=(1, 1), padding=(1, 1), bias=False)\n",
      "        (1): BatchNorm2d(16, eps=1e-05, momentum=0.1, affine=True, track_running_stats=True)\n",
      "        (2): ReLU(inplace=True)\n",
      "      )\n",
      "      (attention1): Attention(\n",
      "        (attention): Identity()\n",
      "      )\n",
      "      (conv2): Conv2dReLU(\n",
      "        (0): Conv2d(16, 16, kernel_size=(3, 3), stride=(1, 1), padding=(1, 1), bias=False)\n",
      "        (1): BatchNorm2d(16, eps=1e-05, momentum=0.1, affine=True, track_running_stats=True)\n",
      "        (2): ReLU(inplace=True)\n",
      "      )\n",
      "      (attention2): Attention(\n",
      "        (attention): Identity()\n",
      "      )\n",
      "    )\n",
      "  )\n",
      ")>\n"
     ]
    }
   ],
   "source": [
    "print(model.decoder.get_parameter)"
   ]
  },
  {
   "cell_type": "code",
   "execution_count": 4,
   "id": "83613a1e-614a-4001-b8b8-7cde643f7427",
   "metadata": {},
   "outputs": [],
   "source": [
    "df = pd.read_csv(gt_df)"
   ]
  },
  {
   "cell_type": "code",
   "execution_count": 7,
   "id": "2538d400-afdd-4d21-b01e-7fe5985a8e8b",
   "metadata": {},
   "outputs": [
    {
     "name": "stderr",
     "output_type": "stream",
     "text": [
      "\u001b[32m2023-11-30 19:24:25.088\u001b[0m | \u001b[1mINFO    \u001b[0m | \u001b[36m__main__\u001b[0m:\u001b[36m<module>\u001b[0m:\u001b[36m1\u001b[0m - \u001b[1mlen of kidney_1_dense: 2279\u001b[0m\n",
      "\u001b[32m2023-11-30 19:24:25.089\u001b[0m | \u001b[1mINFO    \u001b[0m | \u001b[36m__main__\u001b[0m:\u001b[36m<module>\u001b[0m:\u001b[36m2\u001b[0m - \u001b[1mlen of kidney_1_voi: 1397\u001b[0m\n",
      "\u001b[32m2023-11-30 19:24:25.091\u001b[0m | \u001b[1mINFO    \u001b[0m | \u001b[36m__main__\u001b[0m:\u001b[36m<module>\u001b[0m:\u001b[36m3\u001b[0m - \u001b[1mlen of kidney_2: 2217\u001b[0m\n",
      "\u001b[32m2023-11-30 19:24:25.092\u001b[0m | \u001b[1mINFO    \u001b[0m | \u001b[36m__main__\u001b[0m:\u001b[36m<module>\u001b[0m:\u001b[36m4\u001b[0m - \u001b[1mlen of kidney_3_dense: 501\u001b[0m\n",
      "\u001b[32m2023-11-30 19:24:25.093\u001b[0m | \u001b[1mINFO    \u001b[0m | \u001b[36m__main__\u001b[0m:\u001b[36m<module>\u001b[0m:\u001b[36m5\u001b[0m - \u001b[1mlen of kidney_3_sparse: 1035\u001b[0m\n"
     ]
    }
   ],
   "source": [
    "logger.info('len of kidney_1_dense: {}'.format(len(df.loc[df['group'] == 'kidney_1_dense'])))\n",
    "logger.info('len of kidney_1_voi: {}'.format(len(df.loc[df['group'] == 'kidney_1_voi'])))\n",
    "logger.info('len of kidney_2: {}'.format(len(df.loc[df['group'] == 'kidney_2'])))\n",
    "logger.info('len of kidney_3_dense: {}'.format(len(df.loc[df['group'] == 'kidney_3_dense'])))\n",
    "logger.info('len of kidney_3_sparse: {}'.format(len(df.loc[df['group'] == 'kidney_3_sparse'])))"
   ]
  },
  {
   "cell_type": "code",
   "execution_count": 6,
   "id": "2aa88f7a-6eef-4b73-8813-fae16b508b87",
   "metadata": {},
   "outputs": [
    {
     "data": {
      "text/plain": [
       "(1303, 912)"
      ]
     },
     "execution_count": 6,
     "metadata": {},
     "output_type": "execute_result"
    }
   ],
   "source": [
    "imarray.shape"
   ]
  },
  {
   "cell_type": "code",
   "execution_count": null,
   "id": "6fde5b68-35fa-437f-a35b-6ef76fa899e5",
   "metadata": {},
   "outputs": [],
   "source": [
    "img_size  = [512, 512]\n",
    "data_transforms = {\n",
    "    \"train\": A.Compose(\n",
    "        [\n",
    "            A.Resize(\n",
    "                *img_size, interpolation=cv2.INTER_NEAREST\n",
    "            ),\n",
    "            A.HorizontalFlip(p=0.5),\n",
    "        ],\n",
    "        p=1.0\n",
    "    ),\n",
    "    \"valid\": A.Compose(\n",
    "        [\n",
    "            A.Resize(\n",
    "                *img_size, interpolation=cv2.INTER_NEAREST\n",
    "            ),\n",
    "        ],\n",
    "        p=1.0\n",
    "    )\n",
    "}"
   ]
  },
  {
   "cell_type": "code",
   "execution_count": 1,
   "id": "cdc86f69-f8e2-479d-804d-7bee34754db9",
   "metadata": {},
   "outputs": [
    {
     "name": "stderr",
     "output_type": "stream",
     "text": [
      "/home/tamdiep/.local/lib/python3.10/site-packages/tqdm/auto.py:21: TqdmWarning: IProgress not found. Please update jupyter and ipywidgets. See https://ipywidgets.readthedocs.io/en/stable/user_install.html\n",
      "  from .autonotebook import tqdm as notebook_tqdm\n"
     ]
    }
   ],
   "source": [
    "import timm"
   ]
  },
  {
   "cell_type": "code",
   "execution_count": 6,
   "id": "ff6969cd-60e6-40ad-97ec-dbec5d10cd45",
   "metadata": {},
   "outputs": [
    {
     "name": "stderr",
     "output_type": "stream",
     "text": [
      "Downloading: \"https://download.pytorch.org/models/resnet50-19c8e357.pth\" to /home/tamdiep/.cache/torch/hub/checkpoints/resnet50-19c8e357.pth\n",
      "100%|███████████████████████████████████████████████████████████████████████████████████████████████████████████████████████████████████████████| 97.8M/97.8M [00:05<00:00, 19.3MB/s]\n"
     ]
    }
   ],
   "source": [
    "import segmentation_models_pytorch as smp\n",
    "import torch\n",
    "\n",
    "model = smp.Unet(\n",
    "    encoder_name=\"resnet50\",        # choose encoder, e.g. mobilenet_v2 or efficientnet-b7\n",
    "    encoder_weights=\"imagenet\",     # use `imagenet` pre-trained weights for encoder initialization\n",
    "    in_channels=1,                  # model input channels (1 for gray-scale images, 3 for RGB, etc.)\n",
    "    classes=2,                      # model output channels (number of classes in your dataset)\n",
    ")"
   ]
  },
  {
   "cell_type": "code",
   "execution_count": null,
   "id": "39e0e612-45c6-4178-b3fa-7a63fe2c889c",
   "metadata": {},
   "outputs": [],
   "source": [
    "model.to(torch.device('cuda'))"
   ]
  },
  {
   "cell_type": "code",
   "execution_count": 8,
   "id": "e825af3b-95e7-4f6e-9406-5cf894c7525e",
   "metadata": {},
   "outputs": [
    {
     "name": "stdout",
     "output_type": "stream",
     "text": [
      "Wed Nov 15 16:10:42 2023       \n",
      "+-----------------------------------------------------------------------------+\n",
      "| NVIDIA-SMI 525.147.05   Driver Version: 525.147.05   CUDA Version: 12.0     |\n",
      "|-------------------------------+----------------------+----------------------+\n",
      "| GPU  Name        Persistence-M| Bus-Id        Disp.A | Volatile Uncorr. ECC |\n",
      "| Fan  Temp  Perf  Pwr:Usage/Cap|         Memory-Usage | GPU-Util  Compute M. |\n",
      "|                               |                      |               MIG M. |\n",
      "|===============================+======================+======================|\n",
      "|   0  NVIDIA GeForce ...  Off  | 00000000:01:00.0  On |                  N/A |\n",
      "| 40%   39C    P2    33W / 130W |    691MiB /  8192MiB |     20%      Default |\n",
      "|                               |                      |                  N/A |\n",
      "+-------------------------------+----------------------+----------------------+\n",
      "                                                                               \n",
      "+-----------------------------------------------------------------------------+\n",
      "| Processes:                                                                  |\n",
      "|  GPU   GI   CI        PID   Type   Process name                  GPU Memory |\n",
      "|        ID   ID                                                   Usage      |\n",
      "|=============================================================================|\n",
      "|    0   N/A  N/A      6601      G   /usr/lib/xorg/Xorg                154MiB |\n",
      "|    0   N/A  N/A      7161      G   /usr/bin/gnome-shell               38MiB |\n",
      "|    0   N/A  N/A    266007      G   ...540981431831663339,262144      177MiB |\n",
      "|    0   N/A  N/A   1025475      C   /usr/bin/python3                  316MiB |\n",
      "+-----------------------------------------------------------------------------+\n"
     ]
    }
   ],
   "source": [
    "!nvidia-smi"
   ]
  },
  {
   "cell_type": "code",
   "execution_count": null,
   "id": "69e4b253-626e-4d1d-9451-3785653724db",
   "metadata": {},
   "outputs": [],
   "source": [
    "def load_img(path):\n",
    "    img = cv2.imread(path, cv2.IMREAD_UNCHANGED)\n",
    "    img = np.tile(img[...,None], [1, 1, 3]) # gray to rgb\n",
    "    img = img.astype('float32') # original is uint16\n",
    "    mx = np.max(img)\n",
    "    if mx:\n",
    "        img /= mx # scale image to [0, 1]\n",
    "    return img\n",
    "\n",
    "def load_msk(path):\n",
    "    msk = cv2.imread(path, cv2.IMREAD_UNCHANGED)\n",
    "    msk = msk.astype('float32')\n",
    "    msk /= 255.0\n",
    "    return msk"
   ]
  }
 ],
 "metadata": {
  "kernelspec": {
   "display_name": "Python 3 (ipykernel)",
   "language": "python",
   "name": "python3"
  },
  "language_info": {
   "codemirror_mode": {
    "name": "ipython",
    "version": 3
   },
   "file_extension": ".py",
   "mimetype": "text/x-python",
   "name": "python",
   "nbconvert_exporter": "python",
   "pygments_lexer": "ipython3",
   "version": "3.10.12"
  }
 },
 "nbformat": 4,
 "nbformat_minor": 5
}
