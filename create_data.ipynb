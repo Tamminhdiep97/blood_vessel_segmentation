{
 "cells": [
  {
   "cell_type": "markdown",
   "id": "4a5e9ce7-ce20-42dd-a135-7e0b624eaa9b",
   "metadata": {},
   "source": [
    "# Slicing XZ and ZY"
   ]
  },
  {
   "cell_type": "code",
   "execution_count": 1,
   "id": "7d290067-201d-48c7-a39b-83ea14c56030",
   "metadata": {},
   "outputs": [
    {
     "name": "stderr",
     "output_type": "stream",
     "text": [
      "/usr/lib/python3/dist-packages/scipy/__init__.py:146: UserWarning: A NumPy version >=1.17.3 and <1.25.0 is required for this version of SciPy (detected version 1.26.2\n",
      "  warnings.warn(f\"A NumPy version >={np_minversion} and <{np_maxversion}\"\n",
      "/home/tamdiep/.local/lib/python3.10/site-packages/tqdm/auto.py:21: TqdmWarning: IProgress not found. Please update jupyter and ipywidgets. See https://ipywidgets.readthedocs.io/en/stable/user_install.html\n",
      "  from .autonotebook import tqdm as notebook_tqdm\n"
     ]
    }
   ],
   "source": [
    "import os\n",
    "from os.path import join as opj\n",
    "import gc\n",
    "import glob\n",
    "\n",
    "import torch\n",
    "import numpy as np\n",
    "import cv2\n",
    "import tqdm\n",
    "import pandas as pd\n",
    "from loguru import logger\n",
    "\n",
    "import utils\n",
    "\n",
    "TESTING = False\n",
    "\n",
    "SLICING_DATA = ['kidney_1_dense', 'kidney_3_dense', 'kidney_1_voi']"
   ]
  },
  {
   "cell_type": "code",
   "execution_count": 2,
   "id": "760f441b-0962-40a4-a2ce-de7fa149c2ac",
   "metadata": {},
   "outputs": [],
   "source": [
    "def load_volume(dataset):\n",
    "    path = os.path.join(dataset, \"labels\", \"*.tif\")\n",
    "    dataset = sorted(glob.glob(path))\n",
    "    volume = None\n",
    "    target = None\n",
    "\n",
    "    for z, path in enumerate(tqdm.tqdm(dataset)):\n",
    "        label = cv2.imread(path, cv2.IMREAD_ANYDEPTH)\n",
    "        label = np.array(label,dtype=np.uint8)\n",
    "        if target is None:\n",
    "            target = np.zeros((len(dataset), *label.shape[-2:]), dtype=np.uint8)\n",
    "        if volume is None:\n",
    "            volume = np.zeros((len(dataset), *label.shape[-2:]), dtype=np.uint16)\n",
    "        target[z] = label\n",
    "        \n",
    "        path = path.replace(\"/labels/\", \"/images/\")\n",
    "        path = path.replace(\"kidney_3_dense\", \"kidney_3_sparse\")\n",
    "        image = cv2.imread(path, cv2.IMREAD_ANYDEPTH)\n",
    "        image = np.array(image, dtype=np.uint16)\n",
    "        volume[z] = image\n",
    "    return volume, target\n",
    "\n",
    "\n",
    "def save_volume(volume, target, dataset):\n",
    "    if not os.path.exists(dataset): os.mkdir(dataset)\n",
    "    if not os.path.exists(opj(dataset, \"labels\")): os.mkdir(opj(dataset, \"labels\"))\n",
    "    if not os.path.exists(opj(dataset, \"images\")): os.mkdir(opj(dataset, \"images\"))\n",
    "    logger.info('saving {} images of dataset {}'.format(dataset, volume.shape[0]))\n",
    "    for z in tqdm.tqdm(range(volume.shape[0])):       \n",
    "        cv2.imwrite(opj(dataset, \"images\",f\"{z:04d}.tif\"), volume[z])\n",
    "        cv2.imwrite(opj(dataset, \"labels\",f\"{z:04d}.tif\"), target[z])"
   ]
  },
  {
   "cell_type": "code",
   "execution_count": 3,
   "id": "9b387f73-4495-4578-b7e3-51ca8d4b4f01",
   "metadata": {},
   "outputs": [
    {
     "name": "stderr",
     "output_type": "stream",
     "text": [
      "\u001b[32m2023-12-04 12:59:17.733\u001b[0m | \u001b[1mINFO    \u001b[0m | \u001b[36m__main__\u001b[0m:\u001b[36m<module>\u001b[0m:\u001b[36m15\u001b[0m - \u001b[1mskipping blood-vessel-segmentation/train/kidney_1_dense_xz\u001b[0m\n",
      "\u001b[32m2023-12-04 12:59:17.734\u001b[0m | \u001b[1mINFO    \u001b[0m | \u001b[36m__main__\u001b[0m:\u001b[36m<module>\u001b[0m:\u001b[36m21\u001b[0m - \u001b[1mskipping blood-vessel-segmentation/train/kidney_1_dense_zy\u001b[0m\n",
      "\u001b[32m2023-12-04 12:59:17.734\u001b[0m | \u001b[1mINFO    \u001b[0m | \u001b[36m__main__\u001b[0m:\u001b[36m<module>\u001b[0m:\u001b[36m15\u001b[0m - \u001b[1mskipping blood-vessel-segmentation/train/kidney_3_dense_xz\u001b[0m\n",
      "\u001b[32m2023-12-04 12:59:17.734\u001b[0m | \u001b[1mINFO    \u001b[0m | \u001b[36m__main__\u001b[0m:\u001b[36m<module>\u001b[0m:\u001b[36m21\u001b[0m - \u001b[1mskipping blood-vessel-segmentation/train/kidney_3_dense_zy\u001b[0m\n",
      "\u001b[32m2023-12-04 12:59:17.735\u001b[0m | \u001b[1mINFO    \u001b[0m | \u001b[36m__main__\u001b[0m:\u001b[36m<module>\u001b[0m:\u001b[36m15\u001b[0m - \u001b[1mskipping blood-vessel-segmentation/train/kidney_1_voi_xz\u001b[0m\n",
      "\u001b[32m2023-12-04 12:59:17.735\u001b[0m | \u001b[1mINFO    \u001b[0m | \u001b[36m__main__\u001b[0m:\u001b[36m<module>\u001b[0m:\u001b[36m21\u001b[0m - \u001b[1mskipping blood-vessel-segmentation/train/kidney_1_voi_zy\u001b[0m\n"
     ]
    }
   ],
   "source": [
    "for folder in SLICING_DATA:\n",
    "    dataset = opj('blood-vessel-segmentation/train', folder)\n",
    "    dataset_xz = dataset + \"_xz\"\n",
    "    dataset_zy = dataset + \"_zy\"\n",
    "    skip_xz = os.path.exists(dataset_xz) \n",
    "    skip_zy = os.path.exists(dataset_zy)\n",
    "    if not skip_xz or not skip_zy:\n",
    "        logger.info(\"load {}\".format(dataset))\n",
    "        volume, target = load_volume(dataset)\n",
    "    if not skip_xz:\n",
    "        logger.info(\"save {}\".format(dataset_xz))\n",
    "        volume_xz, target_xz = volume.transpose((1, 2, 0)), target.transpose((1, 2, 0))\n",
    "        if not TESTING: save_volume(volume_xz, target_xz, dataset_xz)\n",
    "    else:\n",
    "        logger.info(\"skipping {}\".format(dataset_xz))\n",
    "    if not skip_zy:\n",
    "        logger.info(\"save {}\".format(dataset_zy))\n",
    "        volume_zy, target_zy = volume.transpose(2,0,1), target.transpose(2,0,1)\n",
    "        if not TESTING: save_volume(volume_zy, target_zy, dataset_zy)\n",
    "    else:\n",
    "        logger.info(\"skipping {}\".format(dataset_zy))"
   ]
  },
  {
   "cell_type": "code",
   "execution_count": 4,
   "id": "b9afb1e6-f19e-413d-ae65-6999b0c380ab",
   "metadata": {},
   "outputs": [],
   "source": [
    "gt_df = pd.read_csv('gt.csv', dtype={'slice': 'string'})"
   ]
  },
  {
   "cell_type": "code",
   "execution_count": 5,
   "id": "113d08f6-c8c7-4611-86df-1277090ef6f8",
   "metadata": {},
   "outputs": [
    {
     "name": "stdout",
     "output_type": "stream",
     "text": [
      "['kidney_1_dense' 'kidney_1_voi' 'kidney_2' 'kidney_3_dense'\n",
      " 'kidney_3_sparse']\n"
     ]
    }
   ],
   "source": [
    "print(gt_df['group'].unique())"
   ]
  },
  {
   "cell_type": "code",
   "execution_count": 6,
   "id": "4bfb2f03-c074-4ae5-ba63-d446aa2493d0",
   "metadata": {},
   "outputs": [
    {
     "name": "stdout",
     "output_type": "stream",
     "text": [
      "id                                        kidney_1_dense_0000\n",
      "rle                                                       1 0\n",
      "group                                          kidney_1_dense\n",
      "slice                                                    0000\n",
      "height                                                   1303\n",
      "width                                                     912\n",
      "img_path    blood-vessel-segmentation/train/kidney_1_dense...\n",
      "msk_path    blood-vessel-segmentation/train/kidney_1_dense...\n",
      "Name: 0, dtype: object\n"
     ]
    }
   ],
   "source": [
    "print(gt_df.iloc[0])"
   ]
  },
  {
   "cell_type": "code",
   "execution_count": 7,
   "id": "8c166aa9-acc6-4a77-9eb5-c5bf97703c33",
   "metadata": {},
   "outputs": [
    {
     "data": {
      "text/html": [
       "<div>\n",
       "<style scoped>\n",
       "    .dataframe tbody tr th:only-of-type {\n",
       "        vertical-align: middle;\n",
       "    }\n",
       "\n",
       "    .dataframe tbody tr th {\n",
       "        vertical-align: top;\n",
       "    }\n",
       "\n",
       "    .dataframe thead th {\n",
       "        text-align: right;\n",
       "    }\n",
       "</style>\n",
       "<table border=\"1\" class=\"dataframe\">\n",
       "  <thead>\n",
       "    <tr style=\"text-align: right;\">\n",
       "      <th></th>\n",
       "      <th>id</th>\n",
       "      <th>rle</th>\n",
       "      <th>group</th>\n",
       "      <th>slice</th>\n",
       "      <th>height</th>\n",
       "      <th>width</th>\n",
       "      <th>img_path</th>\n",
       "      <th>msk_path</th>\n",
       "    </tr>\n",
       "  </thead>\n",
       "  <tbody>\n",
       "    <tr>\n",
       "      <th>0</th>\n",
       "      <td>kidney_1_dense_0000</td>\n",
       "      <td>1 0</td>\n",
       "      <td>kidney_1_dense</td>\n",
       "      <td>0000</td>\n",
       "      <td>1303</td>\n",
       "      <td>912</td>\n",
       "      <td>blood-vessel-segmentation/train/kidney_1_dense...</td>\n",
       "      <td>blood-vessel-segmentation/train/kidney_1_dense...</td>\n",
       "    </tr>\n",
       "    <tr>\n",
       "      <th>1</th>\n",
       "      <td>kidney_1_dense_0001</td>\n",
       "      <td>1 0</td>\n",
       "      <td>kidney_1_dense</td>\n",
       "      <td>0001</td>\n",
       "      <td>1303</td>\n",
       "      <td>912</td>\n",
       "      <td>blood-vessel-segmentation/train/kidney_1_dense...</td>\n",
       "      <td>blood-vessel-segmentation/train/kidney_1_dense...</td>\n",
       "    </tr>\n",
       "    <tr>\n",
       "      <th>2</th>\n",
       "      <td>kidney_1_dense_0002</td>\n",
       "      <td>1 0</td>\n",
       "      <td>kidney_1_dense</td>\n",
       "      <td>0002</td>\n",
       "      <td>1303</td>\n",
       "      <td>912</td>\n",
       "      <td>blood-vessel-segmentation/train/kidney_1_dense...</td>\n",
       "      <td>blood-vessel-segmentation/train/kidney_1_dense...</td>\n",
       "    </tr>\n",
       "    <tr>\n",
       "      <th>3</th>\n",
       "      <td>kidney_1_dense_0003</td>\n",
       "      <td>1 0</td>\n",
       "      <td>kidney_1_dense</td>\n",
       "      <td>0003</td>\n",
       "      <td>1303</td>\n",
       "      <td>912</td>\n",
       "      <td>blood-vessel-segmentation/train/kidney_1_dense...</td>\n",
       "      <td>blood-vessel-segmentation/train/kidney_1_dense...</td>\n",
       "    </tr>\n",
       "    <tr>\n",
       "      <th>4</th>\n",
       "      <td>kidney_1_dense_0004</td>\n",
       "      <td>1 0</td>\n",
       "      <td>kidney_1_dense</td>\n",
       "      <td>0004</td>\n",
       "      <td>1303</td>\n",
       "      <td>912</td>\n",
       "      <td>blood-vessel-segmentation/train/kidney_1_dense...</td>\n",
       "      <td>blood-vessel-segmentation/train/kidney_1_dense...</td>\n",
       "    </tr>\n",
       "  </tbody>\n",
       "</table>\n",
       "</div>"
      ],
      "text/plain": [
       "                    id  rle           group slice  height  width  \\\n",
       "0  kidney_1_dense_0000  1 0  kidney_1_dense  0000    1303    912   \n",
       "1  kidney_1_dense_0001  1 0  kidney_1_dense  0001    1303    912   \n",
       "2  kidney_1_dense_0002  1 0  kidney_1_dense  0002    1303    912   \n",
       "3  kidney_1_dense_0003  1 0  kidney_1_dense  0003    1303    912   \n",
       "4  kidney_1_dense_0004  1 0  kidney_1_dense  0004    1303    912   \n",
       "\n",
       "                                            img_path  \\\n",
       "0  blood-vessel-segmentation/train/kidney_1_dense...   \n",
       "1  blood-vessel-segmentation/train/kidney_1_dense...   \n",
       "2  blood-vessel-segmentation/train/kidney_1_dense...   \n",
       "3  blood-vessel-segmentation/train/kidney_1_dense...   \n",
       "4  blood-vessel-segmentation/train/kidney_1_dense...   \n",
       "\n",
       "                                            msk_path  \n",
       "0  blood-vessel-segmentation/train/kidney_1_dense...  \n",
       "1  blood-vessel-segmentation/train/kidney_1_dense...  \n",
       "2  blood-vessel-segmentation/train/kidney_1_dense...  \n",
       "3  blood-vessel-segmentation/train/kidney_1_dense...  \n",
       "4  blood-vessel-segmentation/train/kidney_1_dense...  "
      ]
     },
     "execution_count": 7,
     "metadata": {},
     "output_type": "execute_result"
    }
   ],
   "source": [
    "gt_df.head()"
   ]
  },
  {
   "cell_type": "code",
   "execution_count": 8,
   "id": "43fe4cf5-d14a-4679-b8dc-12ac2e9ad906",
   "metadata": {},
   "outputs": [],
   "source": [
    "# inline works with torch tensors\n",
    "# import inline\n",
    "\n",
    "# Visualize the volume\n",
    "# t_xy = torch.from_numpy((target.argmax(0) / target.shape[0]).astype(np.float32))\n",
    "# t_xy[-1] = 1\n",
    "# inline.plot(t_xy, \"XY\")"
   ]
  },
  {
   "cell_type": "code",
   "execution_count": 9,
   "id": "9c976c49-f795-4c39-bfa1-3471d9151b0b",
   "metadata": {},
   "outputs": [],
   "source": [
    "# Plot single slice\n",
    "# inline.plot(torch.from_numpy(volume[500]/65535).float())\n",
    "\n",
    "# Plot 32 slices for XZ and ZY\n",
    "# inline.plot(torch.from_numpy(volume_xz[500:532]/65535).float())\n",
    "# inline.plot(torch.from_numpy(volume_zy[500:532]/65535).float())"
   ]
  },
  {
   "cell_type": "code",
   "execution_count": 10,
   "id": "e0f67f20-ce25-4c68-86e5-a1002f63499d",
   "metadata": {},
   "outputs": [
    {
     "name": "stderr",
     "output_type": "stream",
     "text": [
      "\u001b[32m2023-12-04 12:59:22.137\u001b[0m | \u001b[1mINFO    \u001b[0m | \u001b[36m__main__\u001b[0m:\u001b[36m<module>\u001b[0m:\u001b[36m8\u001b[0m - \u001b[1minfering: blood-vessel-segmentation/train/kidney_1_dense_xz\u001b[0m\n",
      "100%|██████████████████████████████████████████████████████████████████████████| 1304/1304 [00:38<00:00, 33.77it/s]\n",
      "\u001b[32m2023-12-04 13:00:00.756\u001b[0m | \u001b[1mINFO    \u001b[0m | \u001b[36m__main__\u001b[0m:\u001b[36m<module>\u001b[0m:\u001b[36m8\u001b[0m - \u001b[1minfering: blood-vessel-segmentation/train/kidney_1_dense_zy\u001b[0m\n",
      "100%|████████████████████████████████████████████████████████████████████████████| 912/912 [00:38<00:00, 23.92it/s]\n",
      "\u001b[32m2023-12-04 13:00:38.877\u001b[0m | \u001b[1mINFO    \u001b[0m | \u001b[36m__main__\u001b[0m:\u001b[36m<module>\u001b[0m:\u001b[36m8\u001b[0m - \u001b[1minfering: blood-vessel-segmentation/train/kidney_3_dense_xz\u001b[0m\n",
      "100%|██████████████████████████████████████████████████████████████████████████| 1706/1706 [00:19<00:00, 87.57it/s]\n",
      "\u001b[32m2023-12-04 13:00:58.361\u001b[0m | \u001b[1mINFO    \u001b[0m | \u001b[36m__main__\u001b[0m:\u001b[36m<module>\u001b[0m:\u001b[36m8\u001b[0m - \u001b[1minfering: blood-vessel-segmentation/train/kidney_3_dense_zy\u001b[0m\n",
      "100%|██████████████████████████████████████████████████████████████████████████| 1510/1510 [00:19<00:00, 76.17it/s]\n",
      "\u001b[32m2023-12-04 13:01:18.186\u001b[0m | \u001b[1mINFO    \u001b[0m | \u001b[36m__main__\u001b[0m:\u001b[36m<module>\u001b[0m:\u001b[36m8\u001b[0m - \u001b[1minfering: blood-vessel-segmentation/train/kidney_1_voi_xz\u001b[0m\n",
      "100%|██████████████████████████████████████████████████████████████████████████| 1928/1928 [01:23<00:00, 23.06it/s]\n",
      "\u001b[32m2023-12-04 13:02:41.781\u001b[0m | \u001b[1mINFO    \u001b[0m | \u001b[36m__main__\u001b[0m:\u001b[36m<module>\u001b[0m:\u001b[36m8\u001b[0m - \u001b[1minfering: blood-vessel-segmentation/train/kidney_1_voi_zy\u001b[0m\n",
      "100%|██████████████████████████████████████████████████████████████████████████| 1928/1928 [01:23<00:00, 23.07it/s]\n"
     ]
    }
   ],
   "source": [
    "list_data = []\n",
    "for folder in SLICING_DATA:\n",
    "    dataset = opj('blood-vessel-segmentation/train', folder)\n",
    "    dataset_xz = dataset + \"_xz\"\n",
    "    dataset_zy = dataset + \"_zy\"\n",
    "    subdata = [dataset_xz, dataset_zy]\n",
    "    for data_ in subdata:\n",
    "        logger.info('infering: {}'.format(data_))\n",
    "        img_folder = opj(data_, 'images')\n",
    "        # label_folder = opj(data, 'labels')\n",
    "        for image in tqdm.tqdm(os.listdir(img_folder)):\n",
    "            if image.split('.')[-1] != 'tif':\n",
    "                continue\n",
    "            path = opj(img_folder, image)\n",
    "            image = cv2.imread(path, cv2.IMREAD_ANYDEPTH)\n",
    "            path_sep = path.split('/')[-1]\n",
    "            id = '{}_{}'.format(path.split('/')[-3], path_sep.split('.')[0])\n",
    "            slice = path_sep.split('.')[0]\n",
    "            try:\n",
    "                height, width = image.shape\n",
    "            except Exception as e:\n",
    "                logger.error(e)\n",
    "                logger.info(path)\n",
    "                exit()\n",
    "            msk_path = path.replace('images', 'labels')\n",
    "            labels_image = cv2.imread(msk_path, cv2.IMREAD_ANYDEPTH)\n",
    "            rle = utils.rle_encode(np.array(labels_image, dtype=np.uint8))\n",
    "            group = path.split('/')[-3]\n",
    "            row_data = [id, rle, group, slice, height, width, path, msk_path]\n",
    "            list_data.append(row_data)\n",
    "        \n",
    "    "
   ]
  },
  {
   "cell_type": "code",
   "execution_count": 11,
   "id": "250dc432-0674-47e2-b974-f66c131d691d",
   "metadata": {},
   "outputs": [
    {
     "name": "stdout",
     "output_type": "stream",
     "text": [
      "9287\n"
     ]
    }
   ],
   "source": [
    "print(len(list_data))"
   ]
  },
  {
   "cell_type": "code",
   "execution_count": null,
   "id": "5d5ae724-dfdd-4646-ad4f-ae568ecfaa06",
   "metadata": {},
   "outputs": [],
   "source": []
  },
  {
   "cell_type": "code",
   "execution_count": 14,
   "id": "c95d1dd3-cdda-4a5c-b95f-2694f914e48b",
   "metadata": {},
   "outputs": [],
   "source": [
    "df_additional = pd.DataFrame(list_data, columns=['id', 'rle', 'group', 'slice', 'height', 'width', 'img_path', 'msk_path']) "
   ]
  },
  {
   "cell_type": "code",
   "execution_count": 15,
   "id": "9c8f6d89-f13a-4019-90cc-a4afb1fac14a",
   "metadata": {},
   "outputs": [
    {
     "data": {
      "text/html": [
       "<div>\n",
       "<style scoped>\n",
       "    .dataframe tbody tr th:only-of-type {\n",
       "        vertical-align: middle;\n",
       "    }\n",
       "\n",
       "    .dataframe tbody tr th {\n",
       "        vertical-align: top;\n",
       "    }\n",
       "\n",
       "    .dataframe thead th {\n",
       "        text-align: right;\n",
       "    }\n",
       "</style>\n",
       "<table border=\"1\" class=\"dataframe\">\n",
       "  <thead>\n",
       "    <tr style=\"text-align: right;\">\n",
       "      <th></th>\n",
       "      <th>id</th>\n",
       "      <th>rle</th>\n",
       "      <th>group</th>\n",
       "      <th>slice</th>\n",
       "      <th>height</th>\n",
       "      <th>width</th>\n",
       "      <th>img_path</th>\n",
       "      <th>msk_path</th>\n",
       "    </tr>\n",
       "  </thead>\n",
       "  <tbody>\n",
       "    <tr>\n",
       "      <th>0</th>\n",
       "      <td>kidney_1_dense_xz_0937</td>\n",
       "      <td>185461 1 187738 3 190015 4 192294 1 203769 1 2...</td>\n",
       "      <td>kidney_1_dense_xz</td>\n",
       "      <td>0937</td>\n",
       "      <td>912</td>\n",
       "      <td>2279</td>\n",
       "      <td>blood-vessel-segmentation/train/kidney_1_dense...</td>\n",
       "      <td>blood-vessel-segmentation/train/kidney_1_dense...</td>\n",
       "    </tr>\n",
       "    <tr>\n",
       "      <th>1</th>\n",
       "      <td>kidney_1_dense_xz_0545</td>\n",
       "      <td>226477 2 228756 2 244872 1 247151 1 253834 1 2...</td>\n",
       "      <td>kidney_1_dense_xz</td>\n",
       "      <td>0545</td>\n",
       "      <td>912</td>\n",
       "      <td>2279</td>\n",
       "      <td>blood-vessel-segmentation/train/kidney_1_dense...</td>\n",
       "      <td>blood-vessel-segmentation/train/kidney_1_dense...</td>\n",
       "    </tr>\n",
       "    <tr>\n",
       "      <th>2</th>\n",
       "      <td>kidney_1_dense_xz_0124</td>\n",
       "      <td>1028397 4 1030678 2 1055733 5 1058014 2 106049...</td>\n",
       "      <td>kidney_1_dense_xz</td>\n",
       "      <td>0124</td>\n",
       "      <td>912</td>\n",
       "      <td>2279</td>\n",
       "      <td>blood-vessel-segmentation/train/kidney_1_dense...</td>\n",
       "      <td>blood-vessel-segmentation/train/kidney_1_dense...</td>\n",
       "    </tr>\n",
       "    <tr>\n",
       "      <th>3</th>\n",
       "      <td>kidney_1_dense_xz_0683</td>\n",
       "      <td>226490 1 228768 2 231047 2 233326 2 235604 2 2...</td>\n",
       "      <td>kidney_1_dense_xz</td>\n",
       "      <td>0683</td>\n",
       "      <td>912</td>\n",
       "      <td>2279</td>\n",
       "      <td>blood-vessel-segmentation/train/kidney_1_dense...</td>\n",
       "      <td>blood-vessel-segmentation/train/kidney_1_dense...</td>\n",
       "    </tr>\n",
       "    <tr>\n",
       "      <th>4</th>\n",
       "      <td>kidney_1_dense_xz_0652</td>\n",
       "      <td>201402 2 203682 1 228825 1 231104 1 242758 1 2...</td>\n",
       "      <td>kidney_1_dense_xz</td>\n",
       "      <td>0652</td>\n",
       "      <td>912</td>\n",
       "      <td>2279</td>\n",
       "      <td>blood-vessel-segmentation/train/kidney_1_dense...</td>\n",
       "      <td>blood-vessel-segmentation/train/kidney_1_dense...</td>\n",
       "    </tr>\n",
       "  </tbody>\n",
       "</table>\n",
       "</div>"
      ],
      "text/plain": [
       "                       id                                                rle  \\\n",
       "0  kidney_1_dense_xz_0937  185461 1 187738 3 190015 4 192294 1 203769 1 2...   \n",
       "1  kidney_1_dense_xz_0545  226477 2 228756 2 244872 1 247151 1 253834 1 2...   \n",
       "2  kidney_1_dense_xz_0124  1028397 4 1030678 2 1055733 5 1058014 2 106049...   \n",
       "3  kidney_1_dense_xz_0683  226490 1 228768 2 231047 2 233326 2 235604 2 2...   \n",
       "4  kidney_1_dense_xz_0652  201402 2 203682 1 228825 1 231104 1 242758 1 2...   \n",
       "\n",
       "               group slice  height  width  \\\n",
       "0  kidney_1_dense_xz  0937     912   2279   \n",
       "1  kidney_1_dense_xz  0545     912   2279   \n",
       "2  kidney_1_dense_xz  0124     912   2279   \n",
       "3  kidney_1_dense_xz  0683     912   2279   \n",
       "4  kidney_1_dense_xz  0652     912   2279   \n",
       "\n",
       "                                            img_path  \\\n",
       "0  blood-vessel-segmentation/train/kidney_1_dense...   \n",
       "1  blood-vessel-segmentation/train/kidney_1_dense...   \n",
       "2  blood-vessel-segmentation/train/kidney_1_dense...   \n",
       "3  blood-vessel-segmentation/train/kidney_1_dense...   \n",
       "4  blood-vessel-segmentation/train/kidney_1_dense...   \n",
       "\n",
       "                                            msk_path  \n",
       "0  blood-vessel-segmentation/train/kidney_1_dense...  \n",
       "1  blood-vessel-segmentation/train/kidney_1_dense...  \n",
       "2  blood-vessel-segmentation/train/kidney_1_dense...  \n",
       "3  blood-vessel-segmentation/train/kidney_1_dense...  \n",
       "4  blood-vessel-segmentation/train/kidney_1_dense...  "
      ]
     },
     "execution_count": 15,
     "metadata": {},
     "output_type": "execute_result"
    }
   ],
   "source": [
    "df_additional.head()"
   ]
  },
  {
   "cell_type": "code",
   "execution_count": 16,
   "id": "afd65a77-6a62-4d13-9fad-b0fbc8fe2712",
   "metadata": {},
   "outputs": [
    {
     "data": {
      "text/html": [
       "<div>\n",
       "<style scoped>\n",
       "    .dataframe tbody tr th:only-of-type {\n",
       "        vertical-align: middle;\n",
       "    }\n",
       "\n",
       "    .dataframe tbody tr th {\n",
       "        vertical-align: top;\n",
       "    }\n",
       "\n",
       "    .dataframe thead th {\n",
       "        text-align: right;\n",
       "    }\n",
       "</style>\n",
       "<table border=\"1\" class=\"dataframe\">\n",
       "  <thead>\n",
       "    <tr style=\"text-align: right;\">\n",
       "      <th></th>\n",
       "      <th>id</th>\n",
       "      <th>rle</th>\n",
       "      <th>group</th>\n",
       "      <th>slice</th>\n",
       "      <th>height</th>\n",
       "      <th>width</th>\n",
       "      <th>img_path</th>\n",
       "      <th>msk_path</th>\n",
       "    </tr>\n",
       "  </thead>\n",
       "  <tbody>\n",
       "    <tr>\n",
       "      <th>9282</th>\n",
       "      <td>kidney_1_voi_zy_0305</td>\n",
       "      <td>29273 1 36971 10 38900 7 40821 14 42748 13 446...</td>\n",
       "      <td>kidney_1_voi_zy</td>\n",
       "      <td>0305</td>\n",
       "      <td>1397</td>\n",
       "      <td>1928</td>\n",
       "      <td>blood-vessel-segmentation/train/kidney_1_voi_z...</td>\n",
       "      <td>blood-vessel-segmentation/train/kidney_1_voi_z...</td>\n",
       "    </tr>\n",
       "    <tr>\n",
       "      <th>9283</th>\n",
       "      <td>kidney_1_voi_zy_1545</td>\n",
       "      <td>674477 8 676403 13 678330 14 680258 16 682185 ...</td>\n",
       "      <td>kidney_1_voi_zy</td>\n",
       "      <td>1545</td>\n",
       "      <td>1397</td>\n",
       "      <td>1928</td>\n",
       "      <td>blood-vessel-segmentation/train/kidney_1_voi_z...</td>\n",
       "      <td>blood-vessel-segmentation/train/kidney_1_voi_z...</td>\n",
       "    </tr>\n",
       "    <tr>\n",
       "      <th>9284</th>\n",
       "      <td>kidney_1_voi_zy_1683</td>\n",
       "      <td>1052 61 2981 61 4909 61 6837 62 8764 64 10693 ...</td>\n",
       "      <td>kidney_1_voi_zy</td>\n",
       "      <td>1683</td>\n",
       "      <td>1397</td>\n",
       "      <td>1928</td>\n",
       "      <td>blood-vessel-segmentation/train/kidney_1_voi_z...</td>\n",
       "      <td>blood-vessel-segmentation/train/kidney_1_voi_z...</td>\n",
       "    </tr>\n",
       "    <tr>\n",
       "      <th>9285</th>\n",
       "      <td>kidney_1_voi_zy_1124</td>\n",
       "      <td>1794 24 3721 25 5649 26 7577 26 9505 26 11433 ...</td>\n",
       "      <td>kidney_1_voi_zy</td>\n",
       "      <td>1124</td>\n",
       "      <td>1397</td>\n",
       "      <td>1928</td>\n",
       "      <td>blood-vessel-segmentation/train/kidney_1_voi_z...</td>\n",
       "      <td>blood-vessel-segmentation/train/kidney_1_voi_z...</td>\n",
       "    </tr>\n",
       "    <tr>\n",
       "      <th>9286</th>\n",
       "      <td>kidney_1_voi_zy_0764</td>\n",
       "      <td>651 89 2581 88 4509 87 6435 90 8362 90 10290 9...</td>\n",
       "      <td>kidney_1_voi_zy</td>\n",
       "      <td>0764</td>\n",
       "      <td>1397</td>\n",
       "      <td>1928</td>\n",
       "      <td>blood-vessel-segmentation/train/kidney_1_voi_z...</td>\n",
       "      <td>blood-vessel-segmentation/train/kidney_1_voi_z...</td>\n",
       "    </tr>\n",
       "  </tbody>\n",
       "</table>\n",
       "</div>"
      ],
      "text/plain": [
       "                        id                                                rle  \\\n",
       "9282  kidney_1_voi_zy_0305  29273 1 36971 10 38900 7 40821 14 42748 13 446...   \n",
       "9283  kidney_1_voi_zy_1545  674477 8 676403 13 678330 14 680258 16 682185 ...   \n",
       "9284  kidney_1_voi_zy_1683  1052 61 2981 61 4909 61 6837 62 8764 64 10693 ...   \n",
       "9285  kidney_1_voi_zy_1124  1794 24 3721 25 5649 26 7577 26 9505 26 11433 ...   \n",
       "9286  kidney_1_voi_zy_0764  651 89 2581 88 4509 87 6435 90 8362 90 10290 9...   \n",
       "\n",
       "                group slice  height  width  \\\n",
       "9282  kidney_1_voi_zy  0305    1397   1928   \n",
       "9283  kidney_1_voi_zy  1545    1397   1928   \n",
       "9284  kidney_1_voi_zy  1683    1397   1928   \n",
       "9285  kidney_1_voi_zy  1124    1397   1928   \n",
       "9286  kidney_1_voi_zy  0764    1397   1928   \n",
       "\n",
       "                                               img_path  \\\n",
       "9282  blood-vessel-segmentation/train/kidney_1_voi_z...   \n",
       "9283  blood-vessel-segmentation/train/kidney_1_voi_z...   \n",
       "9284  blood-vessel-segmentation/train/kidney_1_voi_z...   \n",
       "9285  blood-vessel-segmentation/train/kidney_1_voi_z...   \n",
       "9286  blood-vessel-segmentation/train/kidney_1_voi_z...   \n",
       "\n",
       "                                               msk_path  \n",
       "9282  blood-vessel-segmentation/train/kidney_1_voi_z...  \n",
       "9283  blood-vessel-segmentation/train/kidney_1_voi_z...  \n",
       "9284  blood-vessel-segmentation/train/kidney_1_voi_z...  \n",
       "9285  blood-vessel-segmentation/train/kidney_1_voi_z...  \n",
       "9286  blood-vessel-segmentation/train/kidney_1_voi_z...  "
      ]
     },
     "execution_count": 16,
     "metadata": {},
     "output_type": "execute_result"
    }
   ],
   "source": [
    "df_additional.tail()"
   ]
  },
  {
   "cell_type": "code",
   "execution_count": 17,
   "id": "22754fc1-30ae-43bc-8a7c-f7da560bdf04",
   "metadata": {},
   "outputs": [
    {
     "name": "stdout",
     "output_type": "stream",
     "text": [
      "7429\n"
     ]
    }
   ],
   "source": [
    "print(len(gt_df))"
   ]
  },
  {
   "cell_type": "code",
   "execution_count": 19,
   "id": "9a153c44-741a-47d9-8f5a-566af0ade315",
   "metadata": {},
   "outputs": [],
   "source": [
    "df = pd.concat([gt_df, df_additional], ignore_index=True)"
   ]
  },
  {
   "cell_type": "code",
   "execution_count": 20,
   "id": "04806918-68fc-411c-b25f-f84ded3ea7a4",
   "metadata": {},
   "outputs": [
    {
     "name": "stdout",
     "output_type": "stream",
     "text": [
      "16716\n"
     ]
    }
   ],
   "source": [
    "print(len(df))"
   ]
  },
  {
   "cell_type": "code",
   "execution_count": 21,
   "id": "a4f9d13c-9738-4b22-9f37-305c76c1e703",
   "metadata": {},
   "outputs": [],
   "source": [
    "df.to_csv('gt_all.csv', index=False)"
   ]
  }
 ],
 "metadata": {
  "kernelspec": {
   "display_name": "Python 3 (ipykernel)",
   "language": "python",
   "name": "python3"
  },
  "language_info": {
   "codemirror_mode": {
    "name": "ipython",
    "version": 3
   },
   "file_extension": ".py",
   "mimetype": "text/x-python",
   "name": "python",
   "nbconvert_exporter": "python",
   "pygments_lexer": "ipython3",
   "version": "3.10.12"
  }
 },
 "nbformat": 4,
 "nbformat_minor": 5
}
